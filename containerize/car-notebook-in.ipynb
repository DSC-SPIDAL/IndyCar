{
 "cells": [
  {
   "cell_type": "code",
   "execution_count": null,
   "metadata": {
    "collapsed": true
   },
   "outputs": [],
   "source": [
    "!pip install iuindycar==0.0.8\n",
    "\n",
    "import iuindycar.Orchestrator as iui\n",
    "\n",
    "#put token in the quotes\n",
    "token=\"\"\"TOKEN\"\"\"\n",
    "\n",
    "oc = iui.Orchestrator(iui.Config(token))\n",
    "cell =  iui.DetectionCell(storm_jar=\"Indycar500-33-HTMBaseline-1.0-SNAPSHOT.jar\",\n",
    "        class_name=\"com.dsc.iu.streaming.LSTMAnomalyDetectionTask\")\n",
    "oc.deploy_stream(\"indycar-22\",\n",
    "                 \"201722\",\n",
    "                 \"compact_topology_out\",\n",
    "                 detection_cell=cell)\n"
   ]
  }
 ],
 "metadata": {
  "kernelspec": {
   "display_name": "Python 3",
   "language": "python",
   "name": "python3"
  },
  "language_info": {
   "codemirror_mode": {
    "name": "ipython",
    "version": 2
   },
   "file_extension": ".py",
   "mimetype": "text/x-python",
   "name": "python",
   "nbconvert_exporter": "python",
   "pygments_lexer": "ipython2",
   "version": "2.7.6"
  }
 },
 "nbformat": 4,
 "nbformat_minor": 0
}