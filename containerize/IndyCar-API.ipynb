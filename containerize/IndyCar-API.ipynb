{
 "cells": [
  {
   "cell_type": "code",
   "execution_count": 1,
   "metadata": {},
   "outputs": [],
   "source": [
    "import urllib3\n",
    "urllib3.disable_warnings(urllib3.exceptions.InsecureRequestWarning)"
   ]
  },
  {
   "cell_type": "code",
   "execution_count": 2,
   "metadata": {},
   "outputs": [
    {
     "name": "stdout",
     "output_type": "stream",
     "text": [
      "Collecting paho-mqtt\n",
      "  Downloading paho-mqtt-1.5.0.tar.gz (99 kB)\n",
      "\u001b[K     |████████████████████████████████| 99 kB 3.4 MB/s eta 0:00:011\n",
      "\u001b[?25hBuilding wheels for collected packages: paho-mqtt\n",
      "  Building wheel for paho-mqtt (setup.py) ... \u001b[?25ldone\n",
      "\u001b[?25h  Created wheel for paho-mqtt: filename=paho_mqtt-1.5.0-py3-none-any.whl size=61415 sha256=1eb9780989f406f51cb248ccb8cb01dc230d88f2c2530c95975bb4723299729f\n",
      "  Stored in directory: /home/jovyan/.cache/pip/wheels/0d/7c/fb/05123381bd60c57ffcdc6fcc1c26e585dedee85b8c1625e2c1\n",
      "Successfully built paho-mqtt\n",
      "Installing collected packages: paho-mqtt\n",
      "Successfully installed paho-mqtt-1.5.0\n"
     ]
    }
   ],
   "source": [
    "!pip install paho-mqtt"
   ]
  },
  {
   "cell_type": "code",
   "execution_count": 3,
   "metadata": {},
   "outputs": [
    {
     "name": "stdout",
     "output_type": "stream",
     "text": [
      "--2020-06-05 22:51:48--  https://storage.googleapis.com/kubernetes-release/release/v1.18.0/bin/linux/amd64/kubectl\n",
      "Resolving storage.googleapis.com (storage.googleapis.com)... 172.217.6.16, 2607:f8b0:4009:80d::2010\n",
      "Connecting to storage.googleapis.com (storage.googleapis.com)|172.217.6.16|:443... connected.\n",
      "HTTP request sent, awaiting response... 200 OK\n",
      "Length: 44023808 (42M) [application/octet-stream]\n",
      "Saving to: ‘kubectl’\n",
      "\n",
      "kubectl             100%[===================>]  41.98M  63.8MB/s    in 0.7s    \n",
      "\n",
      "2020-06-05 22:51:49 (63.8 MB/s) - ‘kubectl’ saved [44023808/44023808]\n",
      "\n"
     ]
    }
   ],
   "source": [
    "!wget https://storage.googleapis.com/kubernetes-release/release/v1.18.0/bin/linux/amd64/kubectl\n",
    "!chmod +x ./kubectl        "
   ]
  },
  {
   "cell_type": "code",
   "execution_count": 4,
   "metadata": {},
   "outputs": [
    {
     "name": "stdout",
     "output_type": "stream",
     "text": [
      "NAME                                READY   STATUS    RESTARTS   AGE\r\n",
      "activemq-apollo                     1/1     Running   0          46h\r\n",
      "jupyter-notebook-684f4b8df4-8jsc4   1/1     Running   3          2m39s\r\n",
      "nimbus                              1/1     Running   0          4h28m\r\n",
      "storm-ui                            1/1     Running   0          4h27m\r\n",
      "storm-worker-controller-8vr4n       1/1     Running   0          4h22m\r\n",
      "storm-worker-controller-f67ln       1/1     Running   0          4h22m\r\n",
      "storm-worker-controller-fsrpx       1/1     Running   0          4h22m\r\n",
      "storm-worker-controller-k5v7p       1/1     Running   0          4h26m\r\n",
      "storm-worker-controller-xz2tb       1/1     Running   0          4h22m\r\n",
      "zookeeper                           1/1     Running   0          44h\r\n"
     ]
    }
   ],
   "source": [
    "!./kubectl get pods"
   ]
  },
  {
   "cell_type": "code",
   "execution_count": 5,
   "metadata": {},
   "outputs": [
    {
     "name": "stdout",
     "output_type": "stream",
     "text": [
      "Collecting kubernetes\n",
      "  Downloading kubernetes-11.0.0-py3-none-any.whl (1.5 MB)\n",
      "\u001b[K     |████████████████████████████████| 1.5 MB 4.6 MB/s eta 0:00:01\n",
      "\u001b[?25hCollecting websocket-client!=0.40.0,!=0.41.*,!=0.42.*,>=0.32.0\n",
      "  Downloading websocket_client-0.57.0-py2.py3-none-any.whl (200 kB)\n",
      "\u001b[K     |████████████████████████████████| 200 kB 12.0 MB/s eta 0:00:01\n",
      "\u001b[?25hRequirement already satisfied: python-dateutil>=2.5.3 in /opt/conda/lib/python3.7/site-packages (from kubernetes) (2.8.1)\n",
      "Requirement already satisfied: urllib3>=1.24.2 in /opt/conda/lib/python3.7/site-packages (from kubernetes) (1.25.9)\n",
      "Requirement already satisfied: certifi>=14.05.14 in /opt/conda/lib/python3.7/site-packages (from kubernetes) (2020.4.5.1)\n",
      "Collecting requests-oauthlib\n",
      "  Downloading requests_oauthlib-1.3.0-py2.py3-none-any.whl (23 kB)\n",
      "Requirement already satisfied: six>=1.9.0 in /opt/conda/lib/python3.7/site-packages (from kubernetes) (1.14.0)\n",
      "Collecting google-auth>=1.0.1\n",
      "  Downloading google_auth-1.16.1-py2.py3-none-any.whl (90 kB)\n",
      "\u001b[K     |████████████████████████████████| 90 kB 12.6 MB/s eta 0:00:01\n",
      "\u001b[?25hRequirement already satisfied: requests in /opt/conda/lib/python3.7/site-packages (from kubernetes) (2.23.0)\n",
      "Requirement already satisfied: setuptools>=21.0.0 in /opt/conda/lib/python3.7/site-packages (from kubernetes) (46.1.3.post20200325)\n",
      "Collecting pyyaml>=3.12\n",
      "  Downloading PyYAML-5.3.1.tar.gz (269 kB)\n",
      "\u001b[K     |████████████████████████████████| 269 kB 19.9 MB/s eta 0:00:01\n",
      "\u001b[?25hRequirement already satisfied: oauthlib>=3.0.0 in /opt/conda/lib/python3.7/site-packages (from requests-oauthlib->kubernetes) (3.0.1)\n",
      "Collecting pyasn1-modules>=0.2.1\n",
      "  Downloading pyasn1_modules-0.2.8-py2.py3-none-any.whl (155 kB)\n",
      "\u001b[K     |████████████████████████████████| 155 kB 27.1 MB/s eta 0:00:01\n",
      "\u001b[?25hCollecting cachetools<5.0,>=2.0.0\n",
      "  Downloading cachetools-4.1.0-py3-none-any.whl (10 kB)\n",
      "Collecting rsa<4.1,>=3.1.4\n",
      "  Downloading rsa-4.0-py2.py3-none-any.whl (38 kB)\n",
      "Requirement already satisfied: chardet<4,>=3.0.2 in /opt/conda/lib/python3.7/site-packages (from requests->kubernetes) (3.0.4)\n",
      "Requirement already satisfied: idna<3,>=2.5 in /opt/conda/lib/python3.7/site-packages (from requests->kubernetes) (2.9)\n",
      "Collecting pyasn1<0.5.0,>=0.4.6\n",
      "  Downloading pyasn1-0.4.8-py2.py3-none-any.whl (77 kB)\n",
      "\u001b[K     |████████████████████████████████| 77 kB 10.9 MB/s eta 0:00:01\n",
      "\u001b[?25hBuilding wheels for collected packages: pyyaml\n",
      "  Building wheel for pyyaml (setup.py) ... \u001b[?25ldone\n",
      "\u001b[?25h  Created wheel for pyyaml: filename=PyYAML-5.3.1-cp37-cp37m-linux_x86_64.whl size=44619 sha256=ef778a1efebd0a8275638aa168872c17a442ac4a3c4354e62e354ef4a4c4a70c\n",
      "  Stored in directory: /home/jovyan/.cache/pip/wheels/5e/03/1e/e1e954795d6f35dfc7b637fe2277bff021303bd9570ecea653\n",
      "Successfully built pyyaml\n",
      "Installing collected packages: websocket-client, requests-oauthlib, pyasn1, pyasn1-modules, cachetools, rsa, google-auth, pyyaml, kubernetes\n",
      "Successfully installed cachetools-4.1.0 google-auth-1.16.1 kubernetes-11.0.0 pyasn1-0.4.8 pyasn1-modules-0.2.8 pyyaml-5.3.1 requests-oauthlib-1.3.0 rsa-4.0 websocket-client-0.57.0\n"
     ]
    }
   ],
   "source": [
    "!pip install kubernetes"
   ]
  },
  {
   "cell_type": "code",
   "execution_count": 6,
   "metadata": {},
   "outputs": [],
   "source": [
    "token = \"eyJhbGciOiJSUzI1NiIsImtpZCI6Ikt4akR0ZFFVTGxaMkk3NGVlS0U1a3dXcmFBQ2tfWEVraEJyd2swZzFKeUkifQ.eyJpc3MiOiJrdWJlcm5ldGVzL3NlcnZpY2VhY2NvdW50Iiwia3ViZXJuZXRlcy5pby9zZXJ2aWNlYWNjb3VudC9uYW1lc3BhY2UiOiJrdWJlcm5ldGVzLWRhc2hib2FyZCIsImt1YmVybmV0ZXMuaW8vc2VydmljZWFjY291bnQvc2VjcmV0Lm5hbWUiOiJhZG1pbi11c2VyLXRva2VuLWtkdzRzIiwia3ViZXJuZXRlcy5pby9zZXJ2aWNlYWNjb3VudC9zZXJ2aWNlLWFjY291bnQubmFtZSI6ImFkbWluLXVzZXIiLCJrdWJlcm5ldGVzLmlvL3NlcnZpY2VhY2NvdW50L3NlcnZpY2UtYWNjb3VudC51aWQiOiIyNDkzOThhYi1hNGZlLTRlYzktOTJjMC0wOTA0NWY4ZGE0M2UiLCJzdWIiOiJzeXN0ZW06c2VydmljZWFjY291bnQ6a3ViZXJuZXRlcy1kYXNoYm9hcmQ6YWRtaW4tdXNlciJ9.OpvG51cuRuiyz5X330r902K1jCyh_bZPnOYlLowDGuz6xPpVKoprccTTl1CIZuU-wbWXkyVSCoDi9kkiug93_mcP3nto2nhlErtW8ps-wCFl2JACsiVRdvTtEvHwN8F3iTd3JSQ41y-qA_WvMPfKAxDEKSD31EolV-quIoPVCOkXSEjaVCaWcSTigjHycQxIt2vTvwWc776KQHBd9DEDdU56e65PUm4ae057HxWAX7nRVmyAoeF2BAkH4cQawX3-GP7sHD_EoYHQ1qap-kHwa2iMm2jus3FzSpkweFgxnINxbnbCoWXvVS4uTlizPK3onBJw23A--NeGmH1XA0AMSA\""
   ]
  },
  {
   "cell_type": "code",
   "execution_count": 7,
   "metadata": {},
   "outputs": [
    {
     "name": "stdout",
     "output_type": "stream",
     "text": [
      "Listing pods with their IPs:\n",
      "10.244.143.194\tdefault\tactivemq-apollo\n",
      "10.244.201.220\tdefault\tjupyter-notebook-684f4b8df4-8jsc4\n",
      "10.244.201.209\tdefault\tnimbus\n",
      "10.244.201.210\tdefault\tstorm-ui\n",
      "10.244.201.212\tdefault\tstorm-worker-controller-8vr4n\n",
      "10.244.143.200\tdefault\tstorm-worker-controller-f67ln\n",
      "10.244.201.213\tdefault\tstorm-worker-controller-fsrpx\n",
      "10.244.143.199\tdefault\tstorm-worker-controller-k5v7p\n",
      "10.244.201.211\tdefault\tstorm-worker-controller-xz2tb\n",
      "10.244.201.198\tdefault\tzookeeper\n",
      "10.244.201.195\tkube-system\tcalico-kube-controllers-77d6cbc65f-vfqhg\n",
      "149.165.150.52\tkube-system\tcalico-node-h4kxh\n",
      "149.165.150.51\tkube-system\tcalico-node-nwjqq\n",
      "10.244.201.193\tkube-system\tcoredns-5644d7b6d9-7nbrs\n",
      "10.244.201.194\tkube-system\tcoredns-5644d7b6d9-kjrd5\n",
      "149.165.150.51\tkube-system\tetcd-d001\n",
      "149.165.150.51\tkube-system\tkube-apiserver-d001\n",
      "149.165.150.51\tkube-system\tkube-controller-manager-d001\n",
      "149.165.150.52\tkube-system\tkube-proxy-f5zt9\n",
      "149.165.150.51\tkube-system\tkube-proxy-pg5fr\n",
      "149.165.150.51\tkube-system\tkube-scheduler-d001\n",
      "10.244.201.196\tkubernetes-dashboard\tdashboard-metrics-scraper-76585494d8-m47zr\n",
      "10.244.201.197\tkubernetes-dashboard\tkubernetes-dashboard-5996555fd8-qqhhn\n"
     ]
    }
   ],
   "source": [
    "from kubernetes import client, config\n",
    "\n",
    "aConfiguration = client.Configuration()\n",
    "aConfiguration.host = \"https://kubernetes.default.svc:443\"\n",
    "aConfiguration.verify_ssl = False\n",
    "aConfiguration.api_key = {\"authorization\": \"Bearer \"+token}\n",
    "\n",
    "aApiClient = client.ApiClient(aConfiguration)\n",
    "v1 = client.CoreV1Api(aApiClient)\n",
    "print(\"Listing pods with their IPs:\")\n",
    "ret = v1.list_pod_for_all_namespaces(watch=False)\n",
    "for i in ret.items:\n",
    "    print(\"%s\\t%s\\t%s\" % (i.status.pod_ip, i.metadata.namespace, i.metadata.name))"
   ]
  },
  {
   "cell_type": "code",
   "execution_count": 8,
   "metadata": {},
   "outputs": [],
   "source": [
    "import uuid,time\n",
    "\n",
    "def create_pod_kill_json(topology_name):\n",
    "    return {\n",
    "  \"kind\": \"Pod\",\n",
    "  \"apiVersion\": \"v1\",\n",
    "  \"metadata\": {\n",
    "    \"name\": \"storm-job-kill-\"+topology_name+\"-\"+str(uuid.uuid4()),\n",
    "    \"labels\": {\n",
    "      \"name\": \"storm-job-kill\"\n",
    "    }\n",
    "  },\n",
    "  \"spec\": {\n",
    "    \"volumes\": [\n",
    "      {\n",
    "        \"name\": \"config\",\n",
    "        \"hostPath\": {\n",
    "          \"path\": \"/nfs/indycar/config\"\n",
    "        }\n",
    "      },\n",
    "      {\n",
    "        \"name\": \"topologies\",\n",
    "        \"hostPath\": {\n",
    "          \"path\": \"/nfs/indycar/data\"\n",
    "        }\n",
    "      }\n",
    "    ],\n",
    "    \"containers\": [\n",
    "      {\n",
    "        \"name\": \"storm-job\",\n",
    "        \"image\": \"storm\",\n",
    "        \"args\": [\n",
    "          \"storm\",\n",
    "          \"kill\",\n",
    "          topology_name\n",
    "        ],\n",
    "        \"resources\": {\n",
    "          \"limits\": {\n",
    "            \"cpu\": \"100m\"\n",
    "          }\n",
    "        },\n",
    "        \"volumeMounts\": [\n",
    "          {\n",
    "            \"name\": \"topologies\",\n",
    "            \"mountPath\": \"/data/topologies\"\n",
    "          },\n",
    "          {\n",
    "            \"name\": \"config\",\n",
    "            \"mountPath\": \"/config\"\n",
    "          }\n",
    "        ]\n",
    "      }\n",
    "    ],\n",
    "    \"restartPolicy\": \"Never\",\n",
    "    \"terminationGracePeriodSeconds\": 30\n",
    "  }\n",
    "}"
   ]
  },
  {
   "cell_type": "code",
   "execution_count": 45,
   "metadata": {},
   "outputs": [],
   "source": [
    "import yaml\n",
    "\n",
    "def create_pod_create_json(topology_name, source_topic, destination_topic):\n",
    "    # create the yaml file and save before returning the json\n",
    "    job_uuid = str(uuid.uuid4())\n",
    "    job_pod_name = \"storm-job-\"+topology_name+\"-\"+job_uuid\n",
    "    \n",
    "    print(\"Deploying job\", job_pod_name)\n",
    "    yaml_file = \"/data/topologies/\"+job_uuid+\".yaml\"\n",
    "    yaml_config = {\n",
    "        \"name\": topology_name,\n",
    "        \"config\": {\n",
    "            \"topology\":{\n",
    "                \"workers\":1,\n",
    "                \"debug\": False,\n",
    "                \"acker\":{\n",
    "                    \"executors\": 0\n",
    "                }\n",
    "            }\n",
    "        },\n",
    "        \"spouts\":[\n",
    "            {\n",
    "                \"id\":topology_name+\"_spout\",\n",
    "                \"className\":\"com.dsc.iu.streaming.AnomalyDetectionTask\",\n",
    "                \"parallelism\":1,\n",
    "                \"constructorArgs\":[source_topic, destination_topic]\n",
    "            }\n",
    "        ]\n",
    "    }\n",
    "    file = open(yaml_file, 'w')\n",
    "    file.write(yaml.dump(yaml_config))\n",
    "    file.close()\n",
    "    return {\n",
    "  \"kind\": \"Pod\",\n",
    "  \"apiVersion\": \"v1\",\n",
    "  \"metadata\": {\n",
    "    \"name\": job_pod_name,\n",
    "    \"labels\": {\n",
    "      \"name\": \"storm-job\"\n",
    "    }\n",
    "  },\n",
    "  \"spec\": {\n",
    "    \"nodeName\":\"d001\",\n",
    "    \"volumes\": [\n",
    "      {\n",
    "        \"name\": \"config\",\n",
    "        \"hostPath\": {\n",
    "          \"path\": \"/nfs/indycar/config\"\n",
    "        }\n",
    "      },\n",
    "      {\n",
    "        \"name\": \"topologies\",\n",
    "        \"hostPath\": {\n",
    "          \"path\": \"/nfs/indycar/data\"\n",
    "        }\n",
    "      }\n",
    "    ],\n",
    "    \"containers\": [\n",
    "      {\n",
    "        \"name\": \"storm-job\",\n",
    "        \"image\": \"storm:1.2.3\",\n",
    "        \"args\": [\n",
    "          \"storm\",\n",
    "          \"jar\",\n",
    "          \"/data/topologies/Indycar500-33-HTMBaseline-1.0-SNAPSHOT.jar\",\n",
    "          \"org.apache.storm.flux.Flux\",\n",
    "          \"--remote\",\n",
    "          yaml_file\n",
    "        ],\n",
    "        \"resources\": {\n",
    "          \"limits\": {\n",
    "            \"cpu\": \"100m\"\n",
    "          }\n",
    "        },\n",
    "        \"volumeMounts\": [\n",
    "          {\n",
    "            \"name\": \"topologies\",\n",
    "            \"mountPath\": \"/data/topologies\"\n",
    "          },\n",
    "          {\n",
    "            \"name\": \"config\",\n",
    "            \"mountPath\": \"/conf\"\n",
    "          }\n",
    "        ]\n",
    "      }\n",
    "    ],\n",
    "    \"restartPolicy\": \"OnFailure\",\n",
    "    \"terminationGracePeriodSeconds\": 30\n",
    "  }\n",
    "}\n",
    "    "
   ]
  },
  {
   "cell_type": "code",
   "execution_count": 10,
   "metadata": {},
   "outputs": [
    {
     "data": {
      "text/plain": [
       "True"
      ]
     },
     "execution_count": 10,
     "metadata": {},
     "output_type": "execute_result"
    }
   ],
   "source": [
    "import http.client\n",
    "import json\n",
    "def check_topology_exists(topology_name):\n",
    "    connection = http.client.HTTPConnection('storm-ui:8080')\n",
    "\n",
    "    headers = {'Content-type': 'application/json'}\n",
    "\n",
    "    connection.request('GET', '/api/v1/topology/summary')\n",
    "\n",
    "    response = connection.getresponse()\n",
    "    obj = json.loads(response.read().decode())\n",
    "    \n",
    "    top_array = obj[\"topologies\"]\n",
    "    for top in top_array:\n",
    "        if top[\"name\"]==topology_name:\n",
    "            return top\n",
    "    return False\n",
    "\n",
    "def kill_topology_if_exists(topology_name):\n",
    "    top = check_topology_exists(topology_name)\n",
    "    if top:\n",
    "        print(\"Topology already exists. Killing...\")\n",
    "        connection = http.client.HTTPConnection('storm-ui:8080')\n",
    "        headers = {'Content-type': 'application/json'}\n",
    "        print(\"Waiting 30 secs to kill the topology...\")\n",
    "        connection.request('POST', '/api/v1/topology/'+top[\"id\"]+'/kill/'+str(30))\n",
    "        response = connection.getresponse()\n",
    "        obj = json.loads(response.read().decode())\n",
    "        print(obj)\n",
    "        if obj[\"status\"]==\"success\":\n",
    "            print(\"Topology Killed...\")\n",
    "            return True\n",
    "        else:\n",
    "            print(\"Failed to kill the toplogy. Manually killing might be required..\")\n",
    "            return False\n",
    "    return True\n",
    "    \n",
    "    \n",
    "kill_topology_if_exists(\"indycar-22\")"
   ]
  },
  {
   "cell_type": "code",
   "execution_count": 11,
   "metadata": {},
   "outputs": [],
   "source": [
    "def blocking_pod_creation(api, pod_manifest):\n",
    "    name = pod_manifest[\"metadata\"][\"name\"]\n",
    "    print(\"Creating POD\",name)\n",
    "    resp = api.create_namespaced_pod(body=pod_manifest,\n",
    "                                                  namespace='default')\n",
    "    while True:\n",
    "        resp = api.read_namespaced_pod(name=name,\n",
    "                                                    namespace='default')\n",
    "        if resp.status.phase != 'Pending':\n",
    "            print(\"Pod is : \"+resp.status.phase+\"...\")\n",
    "            break\n",
    "        print(\"Pod is creating : \"+resp.status.phase+\"...\")\n",
    "        time.sleep(30)\n",
    "    print(\"Done.\")\n",
    "    \n",
    "\n",
    "def blocking_deployment_creation(api, deployement_manifest):\n",
    "    name = deployement_manifest[\"metadata\"][\"name\"]\n",
    "    print(\"Creating Deployement\",name)\n",
    "    resp = api.create_namespaced_deployment(body=deployement_manifest,\n",
    "                                                  namespace='default')\n",
    "    while True:\n",
    "        resp = api.read_namespaced_pod(name=name,\n",
    "                                                    namespace='default')\n",
    "        if resp.status.phase != 'Pending':\n",
    "            print(\"Deployment is : \"+resp.status.phase+\"...\")\n",
    "            break\n",
    "        print(\"Deployment is creating : \"+resp.status.phase+\"...\")\n",
    "        time.sleep(30)\n",
    "    print(\"Done.\")"
   ]
  },
  {
   "cell_type": "code",
   "execution_count": 49,
   "metadata": {},
   "outputs": [],
   "source": [
    "def create_dashboard_server_definition(name,log_file_name,source_topic,publish_prefix=\"\"):\n",
    "    return {\n",
    "   \"apiVersion\": \"apps/v1\",\n",
    "   \"kind\": \"Deployment\",\n",
    "   \"metadata\": {\n",
    "      \"name\": name,\n",
    "      \"labels\": {\n",
    "         \"app\": name\n",
    "      }\n",
    "   },\n",
    "   \"spec\": {\n",
    "      \"replicas\": 1,\n",
    "      \"selector\": {\n",
    "         \"matchLabels\": {\n",
    "            \"app\": name\n",
    "         }\n",
    "      },\n",
    "      \"template\": {\n",
    "         \"metadata\": {\n",
    "            \"labels\": {\n",
    "               \"app\": name\n",
    "            }\n",
    "         },\n",
    "         \"spec\": {\n",
    "            \"volumes\": [\n",
    "               {\n",
    "                  \"name\": \"datalogs\",\n",
    "                  \"hostPath\": {\n",
    "                     \"path\": \"/nfs/indycar/datalogs\"\n",
    "                  }\n",
    "               }\n",
    "            ],\n",
    "            \"containers\": [\n",
    "               {\n",
    "                  \"name\": \"iuindycar\",\n",
    "                  \"image\": \"cwidanage/iuindycar1:v5\",\n",
    "                  \"ports\": [\n",
    "                     {\n",
    "                        \"containerPort\": 5000\n",
    "                     }\n",
    "                  ],\n",
    "                  \"args\": [\n",
    "                     \"java\",\n",
    "                     \"-jar\",\n",
    "                     \"server.jar\",\n",
    "                     \"/data/logs/\"+log_file_name,\n",
    "                     \"tcp://activemq-apollo:61613\",\n",
    "                     \"33\",\n",
    "                     source_topic,\n",
    "                     publish_prefix \n",
    "                  ],\n",
    "                  \"volumeMounts\": [\n",
    "                     {\n",
    "                        \"name\": \"datalogs\",\n",
    "                        \"mountPath\": \"/data/logs\"\n",
    "                     }\n",
    "                  ],\n",
    "                  \"resources\": {\n",
    "                     \"limits\": {\n",
    "                        \"cpu\": 2,\n",
    "                        \"memory\": \"10G\"\n",
    "                     }\n",
    "                  }\n",
    "               }\n",
    "            ],\n",
    "            \"nodeName\" : \"d001\"\n",
    "         }\n",
    "      }\n",
    "   }\n",
    "}"
   ]
  },
  {
   "cell_type": "code",
   "execution_count": 46,
   "metadata": {},
   "outputs": [
    {
     "name": "stdout",
     "output_type": "stream",
     "text": [
      "Deploying job storm-job-indycar-22-00ea4da8-3270-49f1-9bea-fe52ada6509e\n",
      "Creating POD storm-job-indycar-22-00ea4da8-3270-49f1-9bea-fe52ada6509e\n",
      "Pod is creating : Pending...\n",
      "Pod is : Running...\n",
      "Done.\n"
     ]
    }
   ],
   "source": [
    "blocking_pod_creation(v1,create_pod_create_json(\"indycar-22\",\"22\",\"compact_topology_out\"))"
   ]
  },
  {
   "cell_type": "code",
   "execution_count": 43,
   "metadata": {},
   "outputs": [
    {
     "name": "stdout",
     "output_type": "stream",
     "text": [
      "Creating POD storm-job-kill-indycar-22-e2f7c7b2-2ba2-4710-a241-65dd017a5a0a\n",
      "Pod is creating : Pending...\n",
      "Pod is : Running...\n",
      "Done.\n"
     ]
    }
   ],
   "source": [
    "blocking_pod_creation(v1,create_pod_kill_json(\"indycar-22\"))"
   ]
  },
  {
   "cell_type": "code",
   "execution_count": 50,
   "metadata": {},
   "outputs": [],
   "source": [
    "def create_detection_cell(cell_name, input_topic, output_topic):\n",
    "    kill_topology_if_exists(cell_name)\n",
    "    blocking_pod_creation(v1,create_pod_create_json(cell_name,input_topic,output_topic))\n",
    "    \n",
    "def kill_detection_cell(cell_name):\n",
    "    kill_topology_if_exists(cell_name)"
   ]
  },
  {
   "cell_type": "code",
   "execution_count": 35,
   "metadata": {},
   "outputs": [
    {
     "name": "stdout",
     "output_type": "stream",
     "text": [
      "Deploying job storm-job-indycar-22-093e9262-b800-4094-a63c-39c6dff0ccff\n",
      "Creating POD storm-job-indycar-22-093e9262-b800-4094-a63c-39c6dff0ccff\n",
      "Pod is creating : Pending...\n",
      "Pod is : Running...\n",
      "Done.\n"
     ]
    }
   ],
   "source": [
    "# create a detection cell for car 22\n",
    "create_detection_cell(\"indycar-22\",\"22\",\"compact_topology_out\")"
   ]
  },
  {
   "cell_type": "code",
   "execution_count": 36,
   "metadata": {},
   "outputs": [
    {
     "name": "stdout",
     "output_type": "stream",
     "text": [
      "Deploying job storm-job-indycar-66-9e0f37bb-1449-4c71-be69-eedc66e9daf4\n",
      "Creating POD storm-job-indycar-66-9e0f37bb-1449-4c71-be69-eedc66e9daf4\n",
      "Pod is creating : Pending...\n",
      "Pod is : Running...\n",
      "Done.\n"
     ]
    }
   ],
   "source": [
    "create_detection_cell(\"indycar-66\",\"66\",\"compact_topology_out\")"
   ]
  },
  {
   "cell_type": "code",
   "execution_count": 21,
   "metadata": {},
   "outputs": [
    {
     "name": "stdout",
     "output_type": "stream",
     "text": [
      "Topology already exists. Killing...\n",
      "Waiting 30 secs to kill the topology...\n",
      "{'topologyId': 'indycar-98-5-1591402232', 'topologyOperation': 'kill', 'status': 'success'}\n",
      "Topology Killed...\n",
      "Deploying job storm-job-indycar-98-6d58918e-d909-49ea-8245-23ce24ee058d\n",
      "Creating POD storm-job-indycar-98-6d58918e-d909-49ea-8245-23ce24ee058d\n",
      "Pod is creating : Pending...\n",
      "Pod is : Running...\n",
      "Done.\n"
     ]
    }
   ],
   "source": [
    "create_detection_cell(\"indycar-98\",\"98\",\"compact_topology_out\")"
   ]
  },
  {
   "cell_type": "code",
   "execution_count": 22,
   "metadata": {},
   "outputs": [
    {
     "name": "stdout",
     "output_type": "stream",
     "text": [
      "Topology already exists. Killing...\n",
      "Waiting 30 secs to kill the topology...\n",
      "{'topologyId': 'indycar-21-6-1591402641', 'topologyOperation': 'kill', 'status': 'success'}\n",
      "Topology Killed...\n",
      "Deploying job storm-job-indycar-21-f5b81dd7-e2c4-4a3e-b1ef-bb2d2f2eda3f\n",
      "Creating POD storm-job-indycar-21-f5b81dd7-e2c4-4a3e-b1ef-bb2d2f2eda3f\n",
      "Pod is creating : Pending...\n",
      "Pod is : Running...\n",
      "Done.\n"
     ]
    }
   ],
   "source": [
    "create_detection_cell(\"indycar-21\",\"21\",\"compact_topology_out\")"
   ]
  },
  {
   "cell_type": "code",
   "execution_count": 23,
   "metadata": {},
   "outputs": [
    {
     "name": "stdout",
     "output_type": "stream",
     "text": [
      "Deploying job storm-job-indycar-10-d8f4a202-b910-4953-8b3c-8bb10c3aed4b\n",
      "Creating POD storm-job-indycar-10-d8f4a202-b910-4953-8b3c-8bb10c3aed4b\n",
      "Pod is creating : Pending...\n",
      "Pod is : Running...\n",
      "Done.\n"
     ]
    }
   ],
   "source": [
    "create_detection_cell(\"indycar-10\",\"10\",\"compact_topology_out\")"
   ]
  },
  {
   "cell_type": "code",
   "execution_count": 47,
   "metadata": {},
   "outputs": [
    {
     "name": "stdout",
     "output_type": "stream",
     "text": [
      "Topology already exists. Killing...\n",
      "Waiting 30 secs to kill the topology...\n",
      "{'topologyOperation': 'kill', 'topologyId': 'indycar-22-1-1591579886', 'status': 'success'}\n",
      "Topology Killed...\n",
      "Deploying job storm-job-indycar-22-e95a3c7b-07d1-465f-a74f-9a9a426eca1e\n",
      "Creating POD storm-job-indycar-22-e95a3c7b-07d1-465f-a74f-9a9a426eca1e\n",
      "Pod is creating : Pending...\n",
      "Pod is : Running...\n",
      "Done.\n",
      "Deploying job storm-job-indycar-88-e8f430ca-a9d0-4252-ab51-38c1adff2f78\n",
      "Creating POD storm-job-indycar-88-e8f430ca-a9d0-4252-ab51-38c1adff2f78\n",
      "Pod is creating : Pending...\n",
      "Pod is : Running...\n",
      "Done.\n",
      "Deploying job storm-job-indycar-66-01a1c34d-bc32-4b45-bfff-f23f4e398aa3\n",
      "Creating POD storm-job-indycar-66-01a1c34d-bc32-4b45-bfff-f23f4e398aa3\n",
      "Pod is creating : Pending...\n",
      "Pod is : Running...\n",
      "Done.\n",
      "Deploying job storm-job-indycar-23-5e1f0490-aa18-4b7e-b52b-b1a3d49953bd\n",
      "Creating POD storm-job-indycar-23-5e1f0490-aa18-4b7e-b52b-b1a3d49953bd\n",
      "Pod is creating : Pending...\n",
      "Pod is : Running...\n",
      "Done.\n",
      "Deploying job storm-job-indycar-24-5e9a62bd-96ff-4f44-a488-98c40da6daa5\n",
      "Creating POD storm-job-indycar-24-5e9a62bd-96ff-4f44-a488-98c40da6daa5\n",
      "Pod is creating : Pending...\n",
      "Pod is : Running...\n",
      "Done.\n",
      "Deploying job storm-job-indycar-25-0383e0a1-1ada-41f9-930d-6b3fa942d9ac\n",
      "Creating POD storm-job-indycar-25-0383e0a1-1ada-41f9-930d-6b3fa942d9ac\n",
      "Pod is creating : Pending...\n",
      "Pod is : Running...\n",
      "Done.\n",
      "Deploying job storm-job-indycar-26-3940acd3-b981-4083-863c-d34564bf9910\n",
      "Creating POD storm-job-indycar-26-3940acd3-b981-4083-863c-d34564bf9910\n",
      "Pod is creating : Pending...\n",
      "Pod is : Running...\n",
      "Done.\n",
      "Deploying job storm-job-indycar-27-f7372f1a-6e14-431e-b805-71203f7ce64f\n",
      "Creating POD storm-job-indycar-27-f7372f1a-6e14-431e-b805-71203f7ce64f\n",
      "Pod is creating : Pending...\n",
      "Pod is : Running...\n",
      "Done.\n",
      "Deploying job storm-job-indycar-28-d4cf42e6-67c2-44e5-8ceb-49fbb6fb7e7b\n",
      "Creating POD storm-job-indycar-28-d4cf42e6-67c2-44e5-8ceb-49fbb6fb7e7b\n",
      "Pod is creating : Pending...\n",
      "Pod is : Running...\n",
      "Done.\n",
      "Deploying job storm-job-indycar-29-74488529-0582-45c4-a0ee-399df4984ee8\n",
      "Creating POD storm-job-indycar-29-74488529-0582-45c4-a0ee-399df4984ee8\n",
      "Pod is creating : Pending...\n",
      "Pod is : Running...\n",
      "Done.\n",
      "Deploying job storm-job-indycar-98-290fa818-1320-4e94-b97b-5fdc817704e4\n",
      "Creating POD storm-job-indycar-98-290fa818-1320-4e94-b97b-5fdc817704e4\n",
      "Pod is creating : Pending...\n",
      "Pod is : Running...\n",
      "Done.\n",
      "Deploying job storm-job-indycar-32-2e74b773-96b4-4712-a229-f2e83ef928e0\n",
      "Creating POD storm-job-indycar-32-2e74b773-96b4-4712-a229-f2e83ef928e0\n",
      "Pod is creating : Pending...\n",
      "Pod is : Running...\n",
      "Done.\n",
      "Deploying job storm-job-indycar-12-3fc56fa7-d6ba-41bd-a2d3-1b0029020a6e\n",
      "Creating POD storm-job-indycar-12-3fc56fa7-d6ba-41bd-a2d3-1b0029020a6e\n",
      "Pod is creating : Pending...\n",
      "Pod is : Running...\n",
      "Done.\n",
      "Deploying job storm-job-indycar-14-5b77b43c-1677-4bd8-8234-15c6079287e2\n",
      "Creating POD storm-job-indycar-14-5b77b43c-1677-4bd8-8234-15c6079287e2\n",
      "Pod is creating : Pending...\n",
      "Pod is : Running...\n",
      "Done.\n",
      "Deploying job storm-job-indycar-59-ae96f4e2-b654-4bc8-ba69-68904305c946\n",
      "Creating POD storm-job-indycar-59-ae96f4e2-b654-4bc8-ba69-68904305c946\n",
      "Pod is creating : Pending...\n",
      "Pod is : Running...\n",
      "Done.\n"
     ]
    }
   ],
   "source": [
    "# deploy for all the cars\n",
    "all_cars = [\"22\",\n",
    "          \"88\",\n",
    "          \"66\",\n",
    "          \"23\",\n",
    "          \"24\",\n",
    "          \"25\",\n",
    "          \"26\",\n",
    "          \"27\",\n",
    "          \"28\",\n",
    "          \"29\",\n",
    "          \"98\",\n",
    "          \"32\",\n",
    "          \"12\",\n",
    "          \"14\",\n",
    "          \"59\",\n",
    "          \"15\",\n",
    "          \"17\",\n",
    "          \"18\",\n",
    "          \"19\",\n",
    "          \"1\",\n",
    "          \"3\",\n",
    "          \"4\",\n",
    "          \"6\",\n",
    "          \"7\",\n",
    "          \"9\",\n",
    "          \"60\",\n",
    "          \"64\",\n",
    "          \"20\",\n",
    "          \"21\",\n",
    "          \"30\",\n",
    "          \"10\",\n",
    "          \"33\",\n",
    "          \"13\"]\n",
    "\n",
    "some_cars = [\"22\",\n",
    "          \"88\",\n",
    "          \"66\",\n",
    "          \"23\",\n",
    "          \"24\",\n",
    "          \"25\",\n",
    "          \"26\",\n",
    "          \"27\",\n",
    "          \"28\",\n",
    "          \"29\",\n",
    "          \"98\",\n",
    "          \"32\",\n",
    "          \"12\",\n",
    "          \"14\",\n",
    "          \"59\",]\n",
    "\n",
    "for car in some_cars:\n",
    "    create_detection_cell(\"indycar-\"+car,car,\"compact_topology_out\")"
   ]
  },
  {
   "cell_type": "code",
   "execution_count": 38,
   "metadata": {},
   "outputs": [
    {
     "name": "stdout",
     "output_type": "stream",
     "text": [
      "Topology already exists. Killing...\n",
      "Waiting 30 secs to kill the topology...\n",
      "{'topologyId': 'indycar-22-3-1591575183', 'topologyOperation': 'kill', 'status': 'success'}\n",
      "Topology Killed...\n",
      "Topology already exists. Killing...\n",
      "Waiting 30 secs to kill the topology...\n",
      "{'topologyId': 'indycar-88-4-1591575211', 'topologyOperation': 'kill', 'status': 'success'}\n",
      "Topology Killed...\n",
      "Topology already exists. Killing...\n",
      "Waiting 30 secs to kill the topology...\n",
      "{'topologyId': 'indycar-66-2-1591575157', 'topologyOperation': 'kill', 'status': 'success'}\n",
      "Topology Killed...\n",
      "Topology already exists. Killing...\n",
      "Waiting 30 secs to kill the topology...\n",
      "{'topologyId': 'indycar-23-5-1591575271', 'topologyOperation': 'kill', 'status': 'success'}\n",
      "Topology Killed...\n",
      "Topology already exists. Killing...\n",
      "Waiting 30 secs to kill the topology...\n",
      "{'topologyId': 'indycar-24-6-1591575302', 'topologyOperation': 'kill', 'status': 'success'}\n",
      "Topology Killed...\n",
      "Topology already exists. Killing...\n",
      "Waiting 30 secs to kill the topology...\n",
      "{'topologyId': 'indycar-25-7-1591575333', 'topologyOperation': 'kill', 'status': 'success'}\n",
      "Topology Killed...\n",
      "Topology already exists. Killing...\n",
      "Waiting 30 secs to kill the topology...\n",
      "{'topologyId': 'indycar-26-8-1591575375', 'topologyOperation': 'kill', 'status': 'success'}\n",
      "Topology Killed...\n",
      "Topology already exists. Killing...\n",
      "Waiting 30 secs to kill the topology...\n",
      "{'topologyId': 'indycar-27-9-1591575396', 'topologyOperation': 'kill', 'status': 'success'}\n",
      "Topology Killed...\n",
      "Topology already exists. Killing...\n",
      "Waiting 30 secs to kill the topology...\n",
      "{'topologyId': 'indycar-28-10-1591575416', 'topologyOperation': 'kill', 'status': 'success'}\n",
      "Topology Killed...\n",
      "Topology already exists. Killing...\n",
      "Waiting 30 secs to kill the topology...\n",
      "{'topologyId': 'indycar-29-11-1591575440', 'topologyOperation': 'kill', 'status': 'success'}\n",
      "Topology Killed...\n",
      "Topology already exists. Killing...\n",
      "Waiting 30 secs to kill the topology...\n",
      "{'topologyId': 'indycar-98-12-1591575480', 'topologyOperation': 'kill', 'status': 'success'}\n",
      "Topology Killed...\n",
      "Topology already exists. Killing...\n",
      "Waiting 30 secs to kill the topology...\n",
      "{'topologyId': 'indycar-32-13-1591575516', 'topologyOperation': 'kill', 'status': 'success'}\n",
      "Topology Killed...\n",
      "Topology already exists. Killing...\n",
      "Waiting 30 secs to kill the topology...\n",
      "{'topologyId': 'indycar-12-14-1591575539', 'topologyOperation': 'kill', 'status': 'success'}\n",
      "Topology Killed...\n",
      "Topology already exists. Killing...\n",
      "Waiting 30 secs to kill the topology...\n",
      "{'topologyId': 'indycar-14-15-1591575564', 'topologyOperation': 'kill', 'status': 'success'}\n",
      "Topology Killed...\n",
      "Topology already exists. Killing...\n",
      "Waiting 30 secs to kill the topology...\n",
      "{'topologyId': 'indycar-59-16-1591575589', 'topologyOperation': 'kill', 'status': 'success'}\n",
      "Topology Killed...\n"
     ]
    }
   ],
   "source": [
    "for car in all_cars:\n",
    "    kill_detection_cell(\"indycar-\"+car)"
   ]
  },
  {
   "cell_type": "code",
   "execution_count": 56,
   "metadata": {},
   "outputs": [
    {
     "name": "stdout",
     "output_type": "stream",
     "text": [
      "Topology already exists. Killing...\n",
      "Waiting 30 secs to kill the topology...\n",
      "{'topologyOperation': 'kill', 'topologyId': 'indycar-9-2017-19-1591637186', 'status': 'success'}\n",
      "Topology Killed...\n",
      "Deploying job storm-job-indycar-9-2017-e9838ee1-d359-4bc1-8aa4-2eeaa6f7c5f7\n",
      "Creating POD storm-job-indycar-9-2017-e9838ee1-d359-4bc1-8aa4-2eeaa6f7c5f7\n",
      "Pod is creating : Pending...\n",
      "Pod is : Running...\n",
      "Done.\n",
      "Deploying job storm-job-indycar-21-2017-f5f0ecc2-8167-492a-a901-3b1dd01ab271\n",
      "Creating POD storm-job-indycar-21-2017-f5f0ecc2-8167-492a-a901-3b1dd01ab271\n",
      "Pod is creating : Pending...\n",
      "Pod is : Running...\n",
      "Done.\n",
      "Deploying job storm-job-indycar-22-2017-572c26a7-19c4-4cd9-ba0c-7f5bafcaccb4\n",
      "Creating POD storm-job-indycar-22-2017-572c26a7-19c4-4cd9-ba0c-7f5bafcaccb4\n",
      "Pod is creating : Pending...\n",
      "Pod is : Running...\n",
      "Done.\n"
     ]
    }
   ],
   "source": [
    "create_detection_cell(\"indycar-9-2017\",\"20179\",\"compact_topology_out_2017\")\n",
    "create_detection_cell(\"indycar-21-2017\",\"201721\",\"compact_topology_out_2017\")\n",
    "create_detection_cell(\"indycar-22-2017\",\"201722\",\"compact_topology_out_2017\")"
   ]
  },
  {
   "cell_type": "code",
   "execution_count": 54,
   "metadata": {},
   "outputs": [
    {
     "name": "stdout",
     "output_type": "stream",
     "text": [
      "Topology already exists. Killing...\n",
      "Waiting 30 secs to kill the topology...\n",
      "{'topologyOperation': 'kill', 'topologyId': 'indycar-9-2017-18-1591636621', 'status': 'success'}\n",
      "Topology Killed...\n"
     ]
    }
   ],
   "source": [
    "kill_detection_cell(\"indycar-9-2017\")"
   ]
  },
  {
   "cell_type": "code",
   "execution_count": 58,
   "metadata": {},
   "outputs": [
    {
     "name": "stdout",
     "output_type": "stream",
     "text": [
      "Deploying job storm-job-indycar-1-2017-26141617-a537-4267-8ba1-2a908904ecb2\n",
      "Creating POD storm-job-indycar-1-2017-26141617-a537-4267-8ba1-2a908904ecb2\n",
      "Pod is creating : Pending...\n",
      "Pod is : Running...\n",
      "Done.\n",
      "Deploying job storm-job-indycar-2-2017-ca07dd92-fac3-4204-8a2a-fce082bb72ce\n",
      "Creating POD storm-job-indycar-2-2017-ca07dd92-fac3-4204-8a2a-fce082bb72ce\n",
      "Pod is creating : Pending...\n",
      "Pod is : Running...\n",
      "Done.\n",
      "Deploying job storm-job-indycar-3-2017-dab7fc6a-2711-4b47-afb6-50902285aa55\n",
      "Creating POD storm-job-indycar-3-2017-dab7fc6a-2711-4b47-afb6-50902285aa55\n",
      "Pod is creating : Pending...\n",
      "Pod is : Running...\n",
      "Done.\n",
      "Deploying job storm-job-indycar-4-2017-ce7b6c50-8e0c-45ad-8fe2-87d45e0c8108\n",
      "Creating POD storm-job-indycar-4-2017-ce7b6c50-8e0c-45ad-8fe2-87d45e0c8108\n",
      "Pod is creating : Pending...\n",
      "Pod is : Running...\n",
      "Done.\n",
      "Deploying job storm-job-indycar-5-2017-1de59215-5be7-45af-8520-6c8146bdc4bf\n",
      "Creating POD storm-job-indycar-5-2017-1de59215-5be7-45af-8520-6c8146bdc4bf\n",
      "Pod is creating : Pending...\n",
      "Pod is : Running...\n",
      "Done.\n",
      "Deploying job storm-job-indycar-6-2017-f7fd0ddb-444f-4034-8437-0a6103d71fa8\n",
      "Creating POD storm-job-indycar-6-2017-f7fd0ddb-444f-4034-8437-0a6103d71fa8\n",
      "Pod is creating : Pending...\n",
      "Pod is : Running...\n",
      "Done.\n",
      "Deploying job storm-job-indycar-7-2017-f355ff7d-0cef-4f7c-b708-5e852a5ef219\n",
      "Creating POD storm-job-indycar-7-2017-f355ff7d-0cef-4f7c-b708-5e852a5ef219\n",
      "Pod is creating : Pending...\n",
      "Pod is : Running...\n",
      "Done.\n",
      "Deploying job storm-job-indycar-8-2017-64591afd-2090-4f42-9f05-13b331ac06b0\n",
      "Creating POD storm-job-indycar-8-2017-64591afd-2090-4f42-9f05-13b331ac06b0\n",
      "Pod is creating : Pending...\n",
      "Pod is : Running...\n",
      "Done.\n"
     ]
    }
   ],
   "source": [
    "for i in range(1,9):\n",
    "    create_detection_cell(\"indycar-\"+str(i)+\"-2017\",\"2017\"+str(i),\"compact_topology_out_2017\")"
   ]
  },
  {
   "cell_type": "code",
   "execution_count": null,
   "metadata": {},
   "outputs": [],
   "source": []
  }
 ],
 "metadata": {
  "kernelspec": {
   "display_name": "Python 3",
   "language": "python",
   "name": "python3"
  },
  "language_info": {
   "codemirror_mode": {
    "name": "ipython",
    "version": 3
   },
   "file_extension": ".py",
   "mimetype": "text/x-python",
   "name": "python",
   "nbconvert_exporter": "python",
   "pygments_lexer": "ipython3",
   "version": "3.7.6"
  }
 },
 "nbformat": 4,
 "nbformat_minor": 4
}
