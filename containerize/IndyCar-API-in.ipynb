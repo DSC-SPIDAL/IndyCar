{
 "nbformat": 4,
 "nbformat_minor": 0,
 "metadata": {
  "kernelspec": {
   "display_name": "Python 3",
   "language": "python",
   "name": "python3"
  },
  "language_info": {
   "codemirror_mode": {
    "name": "ipython",
    "version": 3
   },
   "file_extension": ".py",
   "mimetype": "text/x-python",
   "name": "python",
   "nbconvert_exporter": "python",
   "pygments_lexer": "ipython3",
   "version": "3.8.3"
  },
  "colab": {
   "name": "NewPackage.ipynb",
   "provenance": []
  }
 },
 "cells": [
  {
   "cell_type": "code",
   "metadata": {
    "id": "QF6w7BuhyrZr",
    "colab_type": "code",
    "colab": {}
   },
   "source": [
    "!pip install iuindycar==0.0.8"
   ],
   "execution_count": null,
   "outputs": []
  },
  {
   "cell_type": "code",
   "metadata": {
    "id": "uxmZTE4kyraG",
    "colab_type": "code",
    "colab": {}
   },
   "source": [
    "import iuindycar.Orchestrator as iui\n",
    "\n",
    "k8_token = \"TOKEN\" # put your token here\n",
    "ip   = \"<your_ip_here>\"     # \"149.165.150.54\"\n",
    "port = <your_port_here      # 31827"
   ],
   "execution_count": 3,
   "outputs": []
  },
  {
   "cell_type": "code",
   "metadata": {
    "id": "SXkm7yIvyraV",
    "colab_type": "code",
    "colab": {}
   },
   "source": [
    "oc = iui.Orchestrator(iui.Config(k8_token).broker(ip,port,\"admin\",\"password\"))"
   ],
   "execution_count": 4,
   "outputs": []
  },
  {
   "cell_type": "code",
   "metadata": {
    "id": "262CscnDytjg",
    "colab_type": "code",
    "colab": {}
   },
   "source": [
    "jar_file = \"Indycar500-33-HTMBaseline-1.0-SNAPSHOT.jar\"\n",
    "algo_class = {\n",
    "    \"HTM\":\"com.dsc.iu.streaming.AnomalyDetectionTask\",\n",
    "    \"LSTM\":\"com.dsc.iu.streaming.LSTMAnomalyDetectionTask\"\n",
    "}\n",
    "out_topic = {\n",
    "    2018:\"compact_topolog_out\",\n",
    "    2017:\"compact_topolog_out_2017\"\n",
    "}\n",
    "car_num_prefix = {\n",
    "    2018:\"\",\n",
    "    2017:\"2017\"\n",
    "}\n",
    "\n",
    "def add_car(year, car_num, algo=\"HTM\"):\n",
    "  class_name = algo_class[algo]\n",
    "  stream_name = \"indycar-\" + str(car_num) + \"-\" +str(year)\n",
    "  topic_in = car_num_prefix[year]+str(car_num)\n",
    "  topic_out = out_topic[year]\n",
    "  print(\"Adding \", stream_name,\n",
    "        \"algo:\",class_name,\n",
    "        \"reading from topic\",topic_in,\n",
    "        \"writing to topic\",topic_out)\n",
    "  cell =  iui.DetectionCell(storm_jar=jar_file, class_name=class_name)\n",
    "  oc.deploy_stream(stream_name,topic_in,topic_out,detection_cell=cell)\n",
    "\n",
    "def remove_car(year, car_num):\n",
    "  stream_name = \"indycar-\"+str(car_num)+\"-\"+str(year)\n",
    "  oc.kill_stream(stream_name)"
   ],
   "execution_count": 13,
   "outputs": []
  },
  {
   "cell_type": "code",
   "metadata": {
    "id": "Jc6IQxs50TFw",
    "colab_type": "code",
    "colab": {}
   },
   "source": [
    "add_car(2018, 22)"
   ],
   "execution_count": null,
   "outputs": []
  },
  {
   "cell_type": "code",
   "metadata": {
    "id": "gG-uw4EIyra9",
    "colab_type": "code",
    "colab": {}
   },
   "source": [
    "remove_car(2018,22)"
   ],
   "execution_count": null,
   "outputs": []
  },
  {
   "cell_type": "code",
   "metadata": {
    "id": "3PD7c3K_yrbF",
    "colab_type": "code",
    "colab": {}
   },
   "source": [
    "stream = oc.probe_topic(\"compact_topology_out\")\n",
    "stream.loop_forever()"
   ],
   "execution_count": null,
   "outputs": []
  },
  {
   "cell_type": "markdown",
   "metadata": {
    "id": "zy-JghpoyrbN",
    "colab_type": "raw"
   },
   "source": [
    ""
   ]
  }
 ]
}