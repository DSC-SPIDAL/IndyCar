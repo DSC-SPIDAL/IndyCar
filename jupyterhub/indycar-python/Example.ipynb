{
 "cells": [
  {
   "cell_type": "code",
   "execution_count": 6,
   "metadata": {},
   "outputs": [],
   "source": [
    "import os\n",
    "os.environ['PYTHONPATH']='./iuindycar'\n",
    "import iuindycar.orchestrator as orc"
   ]
  },
  {
   "cell_type": "code",
   "execution_count": 7,
   "metadata": {},
   "outputs": [],
   "source": [
    "namespace = 'indycar'\n",
    "broker_name = 'apollo-mqtt'"
   ]
  },
  {
   "cell_type": "markdown",
   "metadata": {},
   "source": [
    "## Deploying Broker (Pub/Sub)\n",
    "We use pub/sub borker to publish telemetry data, anomaly detection results"
   ]
  },
  {
   "cell_type": "code",
   "execution_count": 8,
   "metadata": {},
   "outputs": [
    {
     "name": "stdout",
     "output_type": "stream",
     "text": [
      "Deleting service apollo-mqtt\n",
      "Pod apollo-mqtt has been deleted\n",
      "Creating POD apollo-mqtt\n",
      "Pod creation for apollo-mqtt has been submitted. Pod will become ready in several seconds\n",
      "Creating Service apollo-mqtt\n",
      "Broker apollo-mqtt has been deployed.\n",
      "\tInside cluster use: apollo-mqtt.indycar.svc.cluster.local:61613\n",
      "\tOutside the cluster use node-ip:31176\n",
      "\tusername: admin, password: password\n"
     ]
    }
   ],
   "source": [
    "orc.deploy_broker(broker_name, namespace)"
   ]
  },
  {
   "cell_type": "markdown",
   "metadata": {},
   "source": [
    "## Deploying Socket Server\n",
    "\n",
    "Socket server streams the data.\n",
    "\n",
    "To stream a different years data, another socket server instance should be run. Multiple socket servers can use the same broker, but input and output topics should be different. Or another broker instance can be run."
   ]
  },
  {
   "cell_type": "code",
   "execution_count": 9,
   "metadata": {},
   "outputs": [
    {
     "name": "stdout",
     "output_type": "stream",
     "text": [
      "Deleting service indycar-socketserver-2017\n",
      "Deleting deployment indycar-socketserver-2017\n",
      "Creating Deployment indycar-socketserver-2017\n",
      "Deployment for indycar-socketserver-2017 has been submitted. Deployment will become ready in several seconds\n",
      "Creating Service indycar-socketserver-2017\n",
      "SocketServer indycar-socketserver-2017 has been deployed.\n",
      "\tInside cluster use: indycar-socketserver-2017.indycar.svc.cluster.local:5000\n",
      "\tOutside the cluster use node-ip:5000\n"
     ]
    }
   ],
   "source": [
    "socket_server_name = \"indycar-socketserver-2017\"\n",
    "log_file_folder = \"/nfs/indycar/shared/log_files/Indy_500_2017\"\n",
    "log_file_name = \"eRPGenerator_TGMLP_20170528_Indianapolis500_Race.log\"\n",
    "broker_address = \"apollo-mqtt.indycar.svc.cluster.local:61613\" # this is printed when the broker is deployed.\n",
    "input_topic_prefix = \"2017\"\n",
    "output_topic = \"compact_topology_out\"\n",
    "num_cars = \"33\" # number of cars to stream\n",
    "target_node_port = \"5000\" # it should be a non used port\n",
    "\n",
    "orc.deploy_socket_server(socket_server_name, namespace, log_file_folder,\n",
    "                         log_file_name,\n",
    "                         broker_address, input_topic_prefix,\n",
    "                         output_topic, num_cars, target_node_port,\n",
    "                         cpu_limit=\"2\", memory_limit=\"10G\")"
   ]
  },
  {
   "cell_type": "markdown",
   "metadata": {},
   "source": [
    "## Deploy TensorFlow Serving\n",
    "\n",
    "This will deploy TensorFlow Serving\n"
   ]
  },
  {
   "cell_type": "code",
   "execution_count": 10,
   "metadata": {},
   "outputs": [
    {
     "name": "stdout",
     "output_type": "stream",
     "text": [
      "Deleting service tf-serving\n",
      "Deleting deployment tf-serving\n",
      "Creating Deployment tf-serving\n",
      "Deployment for tf-serving has been submitted. Deployment will become ready in several seconds\n",
      "Creating Service tf-serving\n",
      "TensorFlow Serving tf-serving has been deployed.\n",
      "\tUse: tf-serving.indycar.svc.cluster.local:8500 for the grpc and 8501 fot the rest api.\n",
      "\tNote that TFServing is not accessible from the outside with this configuration\n"
     ]
    }
   ],
   "source": [
    "serving_name = \"tf-serving\"\n",
    "model_path = \"/nfs/indycar/serving/models/\"\n",
    "model_name = \"lstm_speed_model\"\n",
    "orc.deploy_tf_serving(serving_name, namespace, 8500, 8501, \"/nfs/indycar/serving/models/\", \"lstm_speed_model\")"
   ]
  },
  {
   "cell_type": "markdown",
   "metadata": {},
   "source": [
    "## Anomaly Detection Deploy\n",
    "\n",
    "We need to deploy anomaly detection tasks one by one. We can deploy different detection algorithms and use them."
   ]
  },
  {
   "cell_type": "code",
   "execution_count": 12,
   "metadata": {},
   "outputs": [
    {
     "name": "stdout",
     "output_type": "stream",
     "text": [
      "Creating POD ad-car88\n",
      "Pod creation for ad-car88 has been submitted. Pod will become ready in several seconds\n",
      "Anomaly Detection pod deployed for 201788 has been deployed.\n"
     ]
    }
   ],
   "source": [
    "detection_name = \"ad-car88\"\n",
    "detection_script_folder = \"/nfs/indycar/serving/scripts\"\n",
    "detection_script_name = \"car_inference.py\"\n",
    "car_number = 88\n",
    "serving_address = \"tf-serving.indycar.svc.cluster.local:8501\" # printed out above\n",
    "input_topic = input_topic_prefix + str(car_number)\n",
    "sequence_len = 80\n",
    "orc.deploy_car_anomaly_detection (detection_name, namespace, detection_script_folder,\n",
    "                                  detection_script_name, car_number, serving_address,\n",
    "                                  broker_address, input_topic,\n",
    "                                  broker_address, sequence_len, cpu_limit=1)"
   ]
  },
  {
   "cell_type": "markdown",
   "metadata": {},
   "source": [
    "## Deploying Dashboard (Website)"
   ]
  },
  {
   "cell_type": "code",
   "execution_count": 16,
   "metadata": {},
   "outputs": [
    {
     "name": "stdout",
     "output_type": "stream",
     "text": [
      "Deleting service indycar-dashboard-2017\n",
      "Deleting deployment indycar-dashboard-2017\n",
      "Creating Deployment indycar-dashboard-2017\n",
      "Deployment for indycar-dashboard-2017 has been submitted. Deployment will become ready in several seconds\n",
      "Creating Service indycar-dashboard-2017\n",
      "IndyCar Dashboard indycar-dashboard-2017 has been deployed. It might take several minutes to run\n",
      "\tUse: indycar-dashboard-2017.indycar.svc.cluster.local:3000 for internal access\n",
      "\tOutside the cluster use node-ip:32658\n"
     ]
    }
   ],
   "source": [
    "dashboard_name = \"indycar-dashboard-2017\"\n",
    "socket_server_address= \"node-ip\" # this should be replaced with your actual ip\n",
    "socket_server_port = \"30760\"\n",
    "orc.deploy_dashboard (dashboard_name, namespace, socket_server_address, socket_server_port)"
   ]
  },
  {
   "cell_type": "code",
   "execution_count": null,
   "metadata": {},
   "outputs": [],
   "source": []
  }
 ],
 "metadata": {
  "kernelspec": {
   "display_name": "Python 3",
   "language": "python",
   "name": "python3"
  },
  "language_info": {
   "codemirror_mode": {
    "name": "ipython",
    "version": 3
   },
   "file_extension": ".py",
   "mimetype": "text/x-python",
   "name": "python",
   "nbconvert_exporter": "python",
   "pygments_lexer": "ipython3",
   "version": "3.7.4"
  }
 },
 "nbformat": 4,
 "nbformat_minor": 4
}
